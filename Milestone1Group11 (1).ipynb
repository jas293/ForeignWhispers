{
  "nbformat": 4,
  "nbformat_minor": 0,
  "metadata": {
    "colab": {
      "provenance": []
    },
    "kernelspec": {
      "name": "python3",
      "display_name": "Python 3"
    },
    "language_info": {
      "name": "python"
    }
  },
  "cells": [
    {
      "cell_type": "markdown",
      "source": [
        "Milestone 1 Group 11\n",
        "\n",
        "Collaborators: Jill Shah & Dhruvik Patel"
      ],
      "metadata": {
        "id": "cYtI92Tu2OIV"
      }
    },
    {
      "cell_type": "code",
      "source": [
        "%pip install pytube\n",
        "%pip install youtube_transcript_api"
      ],
      "metadata": {
        "colab": {
          "base_uri": "https://localhost:8080/"
        },
        "id": "KivGUaZGZ2Eb",
        "outputId": "e2fb8f8e-42f1-458b-bd9c-6627ba261c2d"
      },
      "execution_count": null,
      "outputs": [
        {
          "output_type": "stream",
          "name": "stderr",
          "text": [
            "/usr/local/lib/python3.10/dist-packages/ipykernel/ipkernel.py:283: DeprecationWarning: `should_run_async` will not call `transform_cell` automatically in the future. Please pass the result to `transformed_cell` argument and any exception that happen during thetransform in `preprocessing_exc_tuple` in IPython 7.17 and above.\n",
            "  and should_run_async(code)\n"
          ]
        },
        {
          "output_type": "stream",
          "name": "stdout",
          "text": [
            "Requirement already satisfied: pytube in /usr/local/lib/python3.10/dist-packages (15.0.0)\n",
            "Requirement already satisfied: youtube_transcript_api in /usr/local/lib/python3.10/dist-packages (0.6.1)\n",
            "Requirement already satisfied: requests in /usr/local/lib/python3.10/dist-packages (from youtube_transcript_api) (2.31.0)\n",
            "Requirement already satisfied: charset-normalizer<4,>=2 in /usr/local/lib/python3.10/dist-packages (from requests->youtube_transcript_api) (3.3.1)\n",
            "Requirement already satisfied: idna<4,>=2.5 in /usr/local/lib/python3.10/dist-packages (from requests->youtube_transcript_api) (3.4)\n",
            "Requirement already satisfied: urllib3<3,>=1.21.1 in /usr/local/lib/python3.10/dist-packages (from requests->youtube_transcript_api) (2.0.7)\n",
            "Requirement already satisfied: certifi>=2017.4.17 in /usr/local/lib/python3.10/dist-packages (from requests->youtube_transcript_api) (2023.7.22)\n"
          ]
        }
      ]
    },
    {
      "cell_type": "code",
      "source": [
        "import os\n",
        "import re\n",
        "from pytube import Playlist, YouTube\n",
        "from pytube.exceptions import AgeRestrictedError\n",
        "from youtube_transcript_api import YouTubeTranscriptApi\n",
        "\n",
        "playlist_url = \"https://www.youtube.com/playlist?list=PLI1yx5Z0Lrv77D_g1tvF9u3FVqnrNbCRL\"\n",
        "resolution = \"720p\"\n",
        "download_playlist(playlist_url, resolution)\n",
        "\n",
        "\n",
        "def download_playlist(playlist_url, resolution):\n",
        "  playlist = Playlist(playlist_url)\n",
        "  playlist_name = re.sub(r'\\W+', '-', playlist.title)\n",
        "\n",
        "  if not os.path.exists(playlist_name):\n",
        "    os.mkdir(playlist_name)\n",
        "    for index, v in enumerate(playlist.videos[:10], start=1):\n",
        "      try:\n",
        "        video = YouTube(v.watch_url)\n",
        "        video_resolution = video.streams.filter(res=resolution).first()\n",
        "        video_filename = f\"{index}. {video_resolution.default_filename}\"\n",
        "        video_path = os.path.join(playlist_name, video_filename)\n",
        "        video_streams = video.streams.filter(res=resolution)\n",
        "\n",
        "        if not video_streams:\n",
        "          highest_resolution_stream = video.streams.get_highest_resolution()\n",
        "          video_name = highest_resolution_stream.default_filename\n",
        "          print(\n",
        "              f\"Downloading {video_name} in {highest_resolution_stream.resolution}\")\n",
        "          highest_resolution_stream.download(filename=video_path)\n",
        "\n",
        "        else:\n",
        "          video_stream = video_streams.first()\n",
        "          video_name = video_stream.default_filename\n",
        "          print(\n",
        "              f\"Downloading video for {video_name} in {resolution}\")\n",
        "          ideo_stream.download(filename=\"video.mp4\")\n",
        "\n",
        "          audio_stream = video.streams.get_audio_only()\n",
        "          print(\n",
        "              f\"Downloading audio for {video_name}\")\n",
        "          audio_stream.download(filename=\"audio.mp4\")\n",
        "          os.system(\n",
        "              \"ffmpeg -y -i video.mp4 -i audio.mp4 -c:v copy -c:a aac final.mp4 -loglevel quiet -stats\")\n",
        "          os.rename(\"final.mp4\", video_path)\n",
        "          os.remove(\"video.mp4\")\n",
        "          os.remove(\"audio.mp4\")\n",
        "\n",
        "          srt = YouTubeTranscriptApi.get_transcript(video.video_id)\n",
        "          caption_file = f\"{video_path}.srt\"\n",
        "          with open(caption_file, 'w') as f:\n",
        "            for line in srt:\n",
        "              end=line[\"start\"]+line[\"duration\"]\n",
        "              f.write(str(line[\"start\"]) + \" -- \" + str(end) + \"\\n\")\n",
        "              f.write(line[\"text\"] + \"\\n\")\n",
        "\n",
        "      except AgeRestrictedError:\n",
        "                print(f\"Video {v.title} is age-restricted and has been skipped.\")\n",
        "                continue\n",
        "print(\"----------------------------------\")"
      ],
      "metadata": {
        "colab": {
          "base_uri": "https://localhost:8080/"
        },
        "id": "NUPOtPKKZwMc",
        "outputId": "b0bc89b3-c4b4-4790-aa9b-1cac1e2ab5d4"
      },
      "execution_count": null,
      "outputs": [
        {
          "output_type": "stream",
          "name": "stdout",
          "text": [
            "Downloading video for Pink The 60 Minutes Interview.mp4 in 720p\n",
            "Downloading audio for Pink The 60 Minutes Interview.mp4\n",
            "Video President Joe Biden: The 2023 60 Minutes Interview is age-restricted and has been skipped.\n",
            "Downloading video for Rich Paul The 60 Minutes Interview.mp4 in 720p\n",
            "Downloading audio for Rich Paul The 60 Minutes Interview.mp4\n",
            "Downloading video for Godfather of AI Geoffrey Hinton The 60 Minutes Interview.mp4 in 720p\n",
            "Downloading audio for Godfather of AI Geoffrey Hinton The 60 Minutes Interview.mp4\n",
            "Downloading video for Gen Mark Milley The 60 Minutes Interview.mp4 in 720p\n",
            "Downloading audio for Gen Mark Milley The 60 Minutes Interview.mp4\n",
            "Downloading video for Attorney General Merrick Garland The 60 Minutes Interview.mp4 in 720p\n",
            "Downloading audio for Attorney General Merrick Garland The 60 Minutes Interview.mp4\n",
            "Downloading video for Deion Sanders The 2023 60 Minutes Interview.mp4 in 720p\n",
            "Downloading audio for Deion Sanders The 2023 60 Minutes Interview.mp4\n",
            "Downloading video for Volodymyr Zelenskyy The 2023 60 Minutes Interview.mp4 in 720p\n",
            "Downloading audio for Volodymyr Zelenskyy The 2023 60 Minutes Interview.mp4\n",
            "Downloading video for Denzel Washington  60 Minutes Archive.mp4 in 720p\n",
            "Downloading audio for Denzel Washington  60 Minutes Archive.mp4\n",
            "Downloading video for World Number 1 Pool Player Shane Van Boening The 60 Minutes Interview.mp4 in 720p\n",
            "Downloading audio for World Number 1 Pool Player Shane Van Boening The 60 Minutes Interview.mp4\n",
            "----------------------------------\n"
          ]
        }
      ]
    }
  ]
}